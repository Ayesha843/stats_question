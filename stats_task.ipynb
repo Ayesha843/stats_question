{
 "cells": [
  {
   "cell_type": "code",
   "execution_count": 1,
   "id": "184a9697",
   "metadata": {},
   "outputs": [],
   "source": [
    "import pandas as pd\n",
    "import numpy as np\n"
   ]
  },
  {
   "cell_type": "code",
   "execution_count": 2,
   "id": "853c4839",
   "metadata": {},
   "outputs": [],
   "source": [
    "data=pd.read_excel(\"D:\\\\dataset\\\\fligt.xlsx\")"
   ]
  },
  {
   "cell_type": "code",
   "execution_count": 3,
   "id": "8f5052c4",
   "metadata": {},
   "outputs": [
    {
     "data": {
      "text/html": [
       "<div>\n",
       "<style scoped>\n",
       "    .dataframe tbody tr th:only-of-type {\n",
       "        vertical-align: middle;\n",
       "    }\n",
       "\n",
       "    .dataframe tbody tr th {\n",
       "        vertical-align: top;\n",
       "    }\n",
       "\n",
       "    .dataframe thead th {\n",
       "        text-align: right;\n",
       "    }\n",
       "</style>\n",
       "<table border=\"1\" class=\"dataframe\">\n",
       "  <thead>\n",
       "    <tr style=\"text-align: right;\">\n",
       "      <th></th>\n",
       "      <th>Flight Number</th>\n",
       "      <th>Departure Delay (minutes)</th>\n",
       "      <th>Arrival Delay (minutes)</th>\n",
       "    </tr>\n",
       "  </thead>\n",
       "  <tbody>\n",
       "    <tr>\n",
       "      <th>0</th>\n",
       "      <td>123</td>\n",
       "      <td>15</td>\n",
       "      <td>10</td>\n",
       "    </tr>\n",
       "    <tr>\n",
       "      <th>1</th>\n",
       "      <td>456</td>\n",
       "      <td>0</td>\n",
       "      <td>5</td>\n",
       "    </tr>\n",
       "    <tr>\n",
       "      <th>2</th>\n",
       "      <td>789</td>\n",
       "      <td>20</td>\n",
       "      <td>15</td>\n",
       "    </tr>\n",
       "    <tr>\n",
       "      <th>3</th>\n",
       "      <td>12</td>\n",
       "      <td>10</td>\n",
       "      <td>25</td>\n",
       "    </tr>\n",
       "    <tr>\n",
       "      <th>4</th>\n",
       "      <td>345</td>\n",
       "      <td>5</td>\n",
       "      <td>0</td>\n",
       "    </tr>\n",
       "  </tbody>\n",
       "</table>\n",
       "</div>"
      ],
      "text/plain": [
       "   Flight Number  Departure Delay (minutes)  Arrival Delay (minutes)\n",
       "0            123                         15                       10\n",
       "1            456                          0                        5\n",
       "2            789                         20                       15\n",
       "3             12                         10                       25\n",
       "4            345                          5                        0"
      ]
     },
     "execution_count": 3,
     "metadata": {},
     "output_type": "execute_result"
    }
   ],
   "source": [
    "data"
   ]
  },
  {
   "cell_type": "markdown",
   "id": "c0ac2c41",
   "metadata": {},
   "source": [
    "-What is the average departure delay for all flights?"
   ]
  },
  {
   "cell_type": "code",
   "execution_count": 4,
   "id": "d0585e37",
   "metadata": {},
   "outputs": [
    {
     "data": {
      "text/plain": [
       "10.0"
      ]
     },
     "execution_count": 4,
     "metadata": {},
     "output_type": "execute_result"
    }
   ],
   "source": [
    "data['Departure Delay (minutes)'].mean()"
   ]
  },
  {
   "cell_type": "markdown",
   "id": "93835e39",
   "metadata": {},
   "source": [
    "-What is the average arrival delay for all flights?"
   ]
  },
  {
   "cell_type": "code",
   "execution_count": 5,
   "id": "218af818",
   "metadata": {},
   "outputs": [
    {
     "data": {
      "text/plain": [
       "11.0"
      ]
     },
     "execution_count": 5,
     "metadata": {},
     "output_type": "execute_result"
    }
   ],
   "source": [
    "data[\"Arrival Delay (minutes)\"].mean()"
   ]
  },
  {
   "cell_type": "code",
   "execution_count": 6,
   "id": "75abf21e",
   "metadata": {},
   "outputs": [
    {
     "data": {
      "text/plain": [
       "62.5"
      ]
     },
     "execution_count": 6,
     "metadata": {},
     "output_type": "execute_result"
    }
   ],
   "source": [
    "data['Departure Delay (minutes)'].var()"
   ]
  },
  {
   "cell_type": "markdown",
   "id": "2fd4c445",
   "metadata": {},
   "source": [
    "-What percentage of flights had a departure delay of more than 15 minutes?"
   ]
  },
  {
   "cell_type": "code",
   "execution_count": 7,
   "id": "6865c902",
   "metadata": {},
   "outputs": [],
   "source": [
    "delayed_flights = data[data['Departure Delay (minutes)'] > 15]"
   ]
  },
  {
   "cell_type": "code",
   "execution_count": 8,
   "id": "f3bc6b65",
   "metadata": {},
   "outputs": [
    {
     "data": {
      "text/html": [
       "<div>\n",
       "<style scoped>\n",
       "    .dataframe tbody tr th:only-of-type {\n",
       "        vertical-align: middle;\n",
       "    }\n",
       "\n",
       "    .dataframe tbody tr th {\n",
       "        vertical-align: top;\n",
       "    }\n",
       "\n",
       "    .dataframe thead th {\n",
       "        text-align: right;\n",
       "    }\n",
       "</style>\n",
       "<table border=\"1\" class=\"dataframe\">\n",
       "  <thead>\n",
       "    <tr style=\"text-align: right;\">\n",
       "      <th></th>\n",
       "      <th>Flight Number</th>\n",
       "      <th>Departure Delay (minutes)</th>\n",
       "      <th>Arrival Delay (minutes)</th>\n",
       "    </tr>\n",
       "  </thead>\n",
       "  <tbody>\n",
       "    <tr>\n",
       "      <th>2</th>\n",
       "      <td>789</td>\n",
       "      <td>20</td>\n",
       "      <td>15</td>\n",
       "    </tr>\n",
       "  </tbody>\n",
       "</table>\n",
       "</div>"
      ],
      "text/plain": [
       "   Flight Number  Departure Delay (minutes)  Arrival Delay (minutes)\n",
       "2            789                         20                       15"
      ]
     },
     "execution_count": 8,
     "metadata": {},
     "output_type": "execute_result"
    }
   ],
   "source": [
    "delayed_flights"
   ]
  },
  {
   "cell_type": "code",
   "execution_count": 9,
   "id": "45bf3611",
   "metadata": {},
   "outputs": [
    {
     "data": {
      "text/plain": [
       "1"
      ]
     },
     "execution_count": 9,
     "metadata": {},
     "output_type": "execute_result"
    }
   ],
   "source": [
    "len(delayed_flights)"
   ]
  },
  {
   "cell_type": "code",
   "execution_count": 10,
   "id": "e00397a8",
   "metadata": {},
   "outputs": [
    {
     "data": {
      "text/plain": [
       "5"
      ]
     },
     "execution_count": 10,
     "metadata": {},
     "output_type": "execute_result"
    }
   ],
   "source": [
    "len(data)"
   ]
  },
  {
   "cell_type": "code",
   "execution_count": 11,
   "id": "704cbca1",
   "metadata": {},
   "outputs": [],
   "source": [
    "percentage_delayed = (len(delayed_flights) / len(data)) * 100"
   ]
  },
  {
   "cell_type": "code",
   "execution_count": 12,
   "id": "f11acedc",
   "metadata": {},
   "outputs": [
    {
     "data": {
      "text/plain": [
       "20.0"
      ]
     },
     "execution_count": 12,
     "metadata": {},
     "output_type": "execute_result"
    }
   ],
   "source": [
    "percentage_delayed"
   ]
  },
  {
   "cell_type": "markdown",
   "id": "49f73849",
   "metadata": {},
   "source": [
    "-What is the range of arrival delays among the flights?"
   ]
  },
  {
   "cell_type": "code",
   "execution_count": 14,
   "id": "ecf7bcd5",
   "metadata": {},
   "outputs": [],
   "source": [
    "arrival_delay_range = data['Arrival Delay (minutes)'].max() - data['Arrival Delay (minutes)'].min()"
   ]
  },
  {
   "cell_type": "code",
   "execution_count": 15,
   "id": "0d064dec",
   "metadata": {},
   "outputs": [
    {
     "data": {
      "text/plain": [
       "25"
      ]
     },
     "execution_count": 15,
     "metadata": {},
     "output_type": "execute_result"
    }
   ],
   "source": [
    "arrival_delay_range"
   ]
  },
  {
   "cell_type": "code",
   "execution_count": null,
   "id": "2abaff20",
   "metadata": {},
   "outputs": [],
   "source": []
  }
 ],
 "metadata": {
  "kernelspec": {
   "display_name": "Python 3",
   "language": "python",
   "name": "python3"
  },
  "language_info": {
   "codemirror_mode": {
    "name": "ipython",
    "version": 3
   },
   "file_extension": ".py",
   "mimetype": "text/x-python",
   "name": "python",
   "nbconvert_exporter": "python",
   "pygments_lexer": "ipython3",
   "version": "3.8.8"
  }
 },
 "nbformat": 4,
 "nbformat_minor": 5
}
